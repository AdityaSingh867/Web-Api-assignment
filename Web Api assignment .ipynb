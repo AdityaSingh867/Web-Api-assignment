{
 "cells": [
  {
   "cell_type": "markdown",
   "id": "25358a2a-9032-4c05-86a7-4bb76d5efb23",
   "metadata": {},
   "source": [
    "Q1. What is an API? Give an example, where an API is used in real life."
   ]
  },
  {
   "cell_type": "markdown",
   "id": "c43a5d58-0e38-4a15-81c5-05d68084bc83",
   "metadata": {},
   "source": [
    "APIs are used in web applications to connect user-facing front ends with critical back-end functionality and data.\n",
    "api real life example is money transaction by googlepay , phonepay , applepay , amazonpay , etc. "
   ]
  },
  {
   "cell_type": "markdown",
   "id": "578c34a2-5c05-40b9-8846-06f0409a77b7",
   "metadata": {},
   "source": [
    "Q2. Give advantages and disadvantages of using API ?"
   ]
  },
  {
   "cell_type": "markdown",
   "id": "0d0cee29-bfba-45ee-aad0-916876868899",
   "metadata": {},
   "source": [
    "Advantages -- 1 -APIs allow applications to communicate with each other quickly and easily, without the need for complex integration processes.\n",
    "\n",
    "2 - APIs allow developers to create new applications or services that can be integrated with existing applications or services, providing a great deal of flexibility and customization options.\n"
   ]
  },
  {
   "cell_type": "markdown",
   "id": "c459839b-b884-4a60-8820-3dc8da9042fb",
   "metadata": {},
   "source": [
    "Disadvantages -- 1 - APIs can be complex to use and integrate, requiring developers to have a certain level of technical expertise to implement them effectively.\n",
    "\n",
    "2 -  Some APIs require payment or subscription fees, which can be a significant cost for businesses or individuals who use them."
   ]
  },
  {
   "cell_type": "markdown",
   "id": "1219d63e-eed8-4139-87f7-e9f4250215b3",
   "metadata": {},
   "source": [
    "Q3. What is a Web API? Differentiate between API and Web API ?"
   ]
  },
  {
   "cell_type": "markdown",
   "id": "2edd197c-15c9-4abf-9feb-23de517ec932",
   "metadata": {},
   "source": [
    "API is an interface that exposes an application's data to outside software, whereas web applications are one type of API with stricter requirements.\n",
    "\n",
    "Web api use -- HTTP\n",
    "api use - TCP and IP"
   ]
  },
  {
   "cell_type": "markdown",
   "id": "0c852c7a-9ae4-4ac8-9454-01f1e5aebdd5",
   "metadata": {},
   "source": [
    "Q4. Explain REST and SOAP Architecture. Mention shortcomings of SOAP."
   ]
  },
  {
   "cell_type": "markdown",
   "id": "44cc425b-cc80-4531-ae06-e95da35653f2",
   "metadata": {},
   "source": [
    "REST (Representational State Transfer)\n",
    "SOAP (Simple Object Access Protocol)\n",
    "\n",
    "1 - REST is an architectural style that use HTTP and exchange data between client and server.\n",
    "2 - REST is simple to use and REST based on stateless operations GET , POST , DELETE , PUT.\n",
    "\n",
    "SOAP is an XML-based messaging protocol and SOAP is used for build application with very security.\n",
    "\n",
    "Shortcomings of SOAP:\n",
    "\n",
    "1 - SOAP is a complex that requires a lot of effort to set up and maintain, making it difficult to use for simple applications.\n",
    "2 - SOAP is slower than RESTful web services, as it requires more bandwidth and processing power to exchange data."
   ]
  },
  {
   "cell_type": "markdown",
   "id": "04ab06c7-5625-4ec2-8cda-08aa4ddcc0e7",
   "metadata": {},
   "source": [
    "Q5. Differentiate between REST and SOAP ?"
   ]
  },
  {
   "cell_type": "code",
   "execution_count": null,
   "id": "e40eeccb-6a6a-4688-87a7-794cace2bf9d",
   "metadata": {},
   "outputs": [],
   "source": [
    "1 - REST is very easy to use \n",
    "1 - SOAP is not easy to use as REST\n",
    "\n",
    "2 - security of REST is not good.\n",
    "2 - "
   ]
  }
 ],
 "metadata": {
  "kernelspec": {
   "display_name": "Python 3 (ipykernel)",
   "language": "python",
   "name": "python3"
  },
  "language_info": {
   "codemirror_mode": {
    "name": "ipython",
    "version": 3
   },
   "file_extension": ".py",
   "mimetype": "text/x-python",
   "name": "python",
   "nbconvert_exporter": "python",
   "pygments_lexer": "ipython3",
   "version": "3.10.8"
  }
 },
 "nbformat": 4,
 "nbformat_minor": 5
}
